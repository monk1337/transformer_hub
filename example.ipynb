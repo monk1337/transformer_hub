{
 "cells": [
  {
   "cell_type": "code",
   "execution_count": 19,
   "metadata": {},
   "outputs": [],
   "source": [
    "from th import get_embeddings\n"
   ]
  },
  {
   "cell_type": "code",
   "execution_count": 17,
   "metadata": {},
   "outputs": [
    {
     "name": "stderr",
     "output_type": "stream",
     "text": [
      "  0%|          | 0/1 [00:00<?, ?it/s]"
     ]
    },
    {
     "name": "stdout",
     "output_type": "stream",
     "text": [
      "Loading ernie model...\n",
      "ernie Loaded..\n",
      " Encoding sentences from ernie model...\n",
      "encoding in batch\n"
     ]
    },
    {
     "name": "stderr",
     "output_type": "stream",
     "text": [
      "100%|██████████| 1/1 [00:26<00:00, 26.96s/it]\n"
     ]
    },
    {
     "data": {
      "text/plain": [
       "{'ernie': [array([[-0.6132397 , -0.6757979 , -0.5303903 , ...,  0.21771392,\n",
       "          -0.20745821, -0.11158144]], dtype=float32),\n",
       "  array([[-0.69993937, -0.613617  , -0.33175954, ...,  0.20518526,\n",
       "          -0.07968402, -0.0847223 ]], dtype=float32)]}"
      ]
     },
     "execution_count": 17,
     "metadata": {},
     "output_type": "execute_result"
    }
   ],
   "source": [
    "config     = {'output_vector' : 'cls'}\n",
    "models_list = ['ernie'] # bart, bert, electra, albert, roberta, xlnert, gpt2, xlm, xl, t5\n",
    "sentence = ['checking the bert encoding with this sentence', 'now checking the bert encoding with this sentence']\n",
    "out = get_embeddings(sentence,models_list,config)\n",
    "out"
   ]
  },
  {
   "cell_type": "code",
   "execution_count": 8,
   "metadata": {},
   "outputs": [
    {
     "name": "stderr",
     "output_type": "stream",
     "text": [
      "  0%|          | 0/1 [00:00<?, ?it/s]"
     ]
    },
    {
     "name": "stdout",
     "output_type": "stream",
     "text": [
      "Loading xlnet model...\n",
      "xlnet Loaded..\n",
      " Encoding sentences from xlnet model...\n",
      "encoding in batch\n"
     ]
    },
    {
     "name": "stderr",
     "output_type": "stream",
     "text": [
      "100%|██████████| 1/1 [00:07<00:00,  7.13s/it]\n"
     ]
    },
    {
     "data": {
      "text/plain": [
       "{'xlnet': [array([ 0.67788154,  0.592465  ,  0.7105789 , ..., -0.46574324,\n",
       "         -1.7403499 ,  1.2806371 ], dtype=float32),\n",
       "  array([-0.19064413, -0.77891654,  1.9095674 , ..., -0.7816951 ,\n",
       "         -0.86583674, -0.330346  ], dtype=float32)]}"
      ]
     },
     "execution_count": 8,
     "metadata": {},
     "output_type": "execute_result"
    }
   ],
   "source": []
  },
  {
   "cell_type": "code",
   "execution_count": null,
   "metadata": {},
   "outputs": [],
   "source": [
    "# bert \n",
    "# xlnet\n",
    "# gpt\n",
    "# roberta\n",
    "# albert\n",
    "# bart\n",
    "# electra\n",
    "# xlm\n",
    "# xl\n",
    "# t5\n",
    "# ernie"
   ]
  }
 ],
 "metadata": {
  "kernelspec": {
   "display_name": "Python 3",
   "language": "python",
   "name": "python3"
  },
  "language_info": {
   "codemirror_mode": {
    "name": "ipython",
    "version": 3
   },
   "file_extension": ".py",
   "mimetype": "text/x-python",
   "name": "python",
   "nbconvert_exporter": "python",
   "pygments_lexer": "ipython3",
   "version": "3.7.7"
  }
 },
 "nbformat": 4,
 "nbformat_minor": 4
}
